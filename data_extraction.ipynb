{
 "cells": [
  {
   "cell_type": "code",
   "execution_count": 1,
   "metadata": {},
   "outputs": [],
   "source": [
    "from striprtf.striprtf import rtf_to_text\n",
    "from dotenv import load_dotenv\n",
    "import pandas as pd\n",
    "import openai\n",
    "import json"
   ]
  },
  {
   "cell_type": "code",
   "execution_count": 2,
   "metadata": {},
   "outputs": [
    {
     "data": {
      "text/plain": [
       "True"
      ]
     },
     "execution_count": 2,
     "metadata": {},
     "output_type": "execute_result"
    }
   ],
   "source": [
    "load_dotenv()"
   ]
  },
  {
   "cell_type": "code",
   "execution_count": 3,
   "metadata": {},
   "outputs": [],
   "source": [
    "def generate_prompt(text):\n",
    "    return f\"\"\"\n",
    "    Extract the\n",
    "    first name as 'first_name',\n",
    "    last name as 'last_name',\n",
    "    SIGs as 'sigs',\n",
    "    job title as 'job_title',\n",
    "    company as 'company',\n",
    "    chapter as 'chapter',\n",
    "    work phone as 'phone',\n",
    "    work street as 'street',\n",
    "    work city as 'city',\n",
    "    work state as 'state',\n",
    "    work zip as 'zip',\n",
    "    primary email as 'primary_email',\n",
    "    secondary email as 'secondary_email',\n",
    "    and LinkedIn address as 'linkedin_address'\n",
    "    in JSON format.\n",
    "    If there is no information for any given field, the value should be an empty string.\n",
    "    The data is the following: {text}\n",
    "\"\"\""
   ]
  },
  {
   "cell_type": "code",
   "execution_count": 4,
   "metadata": {},
   "outputs": [],
   "source": [
    "def extract_data(filename, output):\n",
    "    with open(filename) as infile:\n",
    "        content = infile.read()\n",
    "    text = rtf_to_text(content)\n",
    "    splitted_text = list(map(lambda string: string.strip(), text.split(\"------\")))\n",
    "    results = []\n",
    "    for text in splitted_text:\n",
    "        try:\n",
    "            response = openai.ChatCompletion.create(\n",
    "                model=\"gpt-3.5-turbo\",\n",
    "                messages=[\n",
    "                    {\"role\": \"system\", \"content\": \"You are a helpful assistant that will help extraction information from text in JSON format.\"},\n",
    "                    {\"role\": \"user\", \"content\": generate_prompt(text)},\n",
    "                ]\n",
    "            )\n",
    "            json_response = response[\"choices\"][0][\"message\"][\"content\"]\n",
    "            results.append(json.loads(json_response))\n",
    "        except Exception:\n",
    "            pass\n",
    "    processed_results = []\n",
    "    for result in results:\n",
    "        if isinstance(result, dict):\n",
    "            processed_results.append(result)\n",
    "        elif isinstance(result, list):\n",
    "            processed_results.extend(result)\n",
    "    df = pd.DataFrame(processed_results)\n",
    "    df.to_excel(f\"{output}.xlsx\", index=False)"
   ]
  },
  {
   "cell_type": "code",
   "execution_count": 5,
   "metadata": {},
   "outputs": [],
   "source": [
    "extract_data(\"data/Illinois-Controller List.rtf\", \"output/contacts-Illinois-Controller List.rtf\")"
   ]
  }
 ],
 "metadata": {
  "kernelspec": {
   "display_name": "hugging-face-data-mining-HK5D6U7H",
   "language": "python",
   "name": "python3"
  },
  "language_info": {
   "codemirror_mode": {
    "name": "ipython",
    "version": 3
   },
   "file_extension": ".py",
   "mimetype": "text/x-python",
   "name": "python",
   "nbconvert_exporter": "python",
   "pygments_lexer": "ipython3",
   "version": "3.11.5"
  },
  "orig_nbformat": 4
 },
 "nbformat": 4,
 "nbformat_minor": 2
}
