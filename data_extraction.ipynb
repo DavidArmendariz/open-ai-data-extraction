{
 "cells": [
  {
   "cell_type": "code",
   "execution_count": 1,
   "metadata": {},
   "outputs": [
    {
     "name": "stderr",
     "output_type": "stream",
     "text": [
      "/Users/david/.local/share/virtualenvs/hugging-face-data-mining-HK5D6U7H/lib/python3.11/site-packages/tqdm/auto.py:21: TqdmWarning: IProgress not found. Please update jupyter and ipywidgets. See https://ipywidgets.readthedocs.io/en/stable/user_install.html\n",
      "  from .autonotebook import tqdm as notebook_tqdm\n"
     ]
    }
   ],
   "source": [
    "from striprtf.striprtf import rtf_to_text\n",
    "from transformers import pipeline"
   ]
  },
  {
   "cell_type": "code",
   "execution_count": 2,
   "metadata": {},
   "outputs": [],
   "source": [
    "with open(\"search-directory.rtf\") as infile:\n",
    "    content = infile.read()\n",
    "    text = rtf_to_text(content)"
   ]
  },
  {
   "cell_type": "code",
   "execution_count": 3,
   "metadata": {},
   "outputs": [],
   "source": [
    "splitted_text = list(map(lambda string: string.strip(), text.split(\"------\")))"
   ]
  },
  {
   "cell_type": "code",
   "execution_count": 8,
   "metadata": {},
   "outputs": [
    {
     "data": {
      "text/plain": [
       "['Mr. Jim Aamoth (CPA), Greeting to use: Jim',\n",
       " 'Work: Chief Financial Officer, Oneil Digital Solutions',\n",
       " 'Work: 12655 Beatrice Street, Los Angeles, CA, 90066, United States',\n",
       " 'Work #: (818) 723-8668 ',\n",
       " 'Home: 11206 Bentcreek Road, Moorpark, CA, 93021, United States',\n",
       " 'Home #: (805) 523-2800 Home Fax:  Cell Phone #: (818) 723-8668',\n",
       " 'E-Mail: Jimaam@cs.com  Status: Alumni',\n",
       " 'Member Since: 01/20/2002  Last Login: 04/05/2022  Last Update: 02/08/2021  Job Date: 02/08/0021',\n",
       " 'Chapters: Los Angeles (Hollywood/Santa Monica), CA',\n",
       " 'SIGs: Banking; Information Technology; Manufacturing',\n",
       " 'Notes: e 1/7/02 PayForward, Deluxe Filmed Entertainment, Bank of America, Ticketmaster/Interactive Corp., Warner Brothers, PricewaterhouseCoopers, Metro-Goldwyn-Mayer, Consumer Products Co., Laventhol & Horwath, Katz Fram Martin Algaze Leitner Zander & Co. CPAs; BSBA California State University, CPA',\n",
       " 'Sponsor: Brian Layfield']"
      ]
     },
     "execution_count": 8,
     "metadata": {},
     "output_type": "execute_result"
    }
   ],
   "source": [
    "splitted_text[0].split(\"\\n\")"
   ]
  },
  {
   "cell_type": "code",
   "execution_count": 9,
   "metadata": {},
   "outputs": [
    {
     "data": {
      "text/plain": [
       "['Mr. Christian Abadiotakis (CPA), Greeting to use: Christian',\n",
       " 'Work: Chief Financial Officer',\n",
       " 'Work: United States',\n",
       " 'Work #:  ',\n",
       " 'Home: 227 Nottingham Road, Morganville, NJ, 07751, United States',\n",
       " 'Home #:  Home Fax:  Cell Phone #: (646) 220-4831',\n",
       " 'E-Mail: cabadiotakis@gmail.com or cabadiotakis@dreman.com Status: Active',\n",
       " 'Member Since: 07/19/2015  Last Login: 03/09/2021  Last Update: 05/20/2021',\n",
       " 'Chapters: Bergen County, NJ; New York, NY; Warren, NJ',\n",
       " 'SIGs: Asset Management',\n",
       " 'Notes: Dreman Value Management, Arden Asset Management, Bear Stearns, Salomon Smith Barney, PricewaterhouseCoopers, WeiserMazars, J.P. Morgan Chase; BS Oneonta State University of New York, CPA',\n",
       " 'Sponsor: Rich Daquesian']"
      ]
     },
     "execution_count": 9,
     "metadata": {},
     "output_type": "execute_result"
    }
   ],
   "source": [
    "splitted_text[1].split(\"\\n\")"
   ]
  },
  {
   "cell_type": "code",
   "execution_count": null,
   "metadata": {},
   "outputs": [],
   "source": []
  }
 ],
 "metadata": {
  "kernelspec": {
   "display_name": "hugging-face-data-mining-HK5D6U7H",
   "language": "python",
   "name": "python3"
  },
  "language_info": {
   "codemirror_mode": {
    "name": "ipython",
    "version": 3
   },
   "file_extension": ".py",
   "mimetype": "text/x-python",
   "name": "python",
   "nbconvert_exporter": "python",
   "pygments_lexer": "ipython3",
   "version": "3.11.5"
  },
  "orig_nbformat": 4
 },
 "nbformat": 4,
 "nbformat_minor": 2
}
